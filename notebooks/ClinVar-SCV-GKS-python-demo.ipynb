{
 "cells": [
  {
   "cell_type": "code",
   "execution_count": 1,
   "metadata": {},
   "outputs": [
    {
     "name": "stderr",
     "output_type": "stream",
     "text": [
      "2024-07-15 12:28:21 - gcs - INFO - Downloading gs://clinvar-gk-pilot/2024-04-07/dev/combined-catvar_output.ndjson.gz to buckets/clinvar-gk-pilot/2024-04-07/dev/combined-catvar_output.ndjson.gz\n"
     ]
    },
    {
     "name": "stdout",
     "output_type": "stream",
     "text": [
      "Downloading gs://clinvar-gk-pilot/2024-04-07/dev/combined-catvar_output.ndjson.gz to buckets/clinvar-gk-pilot/2024-04-07/dev/combined-catvar_output.ndjson.gz\n"
     ]
    },
    {
     "name": "stderr",
     "output_type": "stream",
     "text": [
      "2024-07-15 12:30:27 - gcs - INFO - Downloading gs://clinvar-gk-pilot/2024-04-07/dev/combined-scv_output.ndjson.gz to buckets/clinvar-gk-pilot/2024-04-07/dev/combined-scv_output.ndjson.gz\n"
     ]
    },
    {
     "name": "stdout",
     "output_type": "stream",
     "text": [
      "Downloading gs://clinvar-gk-pilot/2024-04-07/dev/combined-scv_output.ndjson.gz to buckets/clinvar-gk-pilot/2024-04-07/dev/combined-scv_output.ndjson.gz\n"
     ]
    }
   ],
   "source": [
    "from clinvar_gk_pilot.gcs import (\n",
    "    _local_file_path_for,\n",
    "    download_to_local_file,\n",
    "    already_downloaded,\n",
    ")\n",
    "\n",
    "# Change the cwd from `notebooks` to the parent (the project root) so we download the files there\n",
    "import os\n",
    "\n",
    "os.chdir(os.path.dirname(os.getcwd()))\n",
    "\n",
    "catvar_blob_uri = (\n",
    "    \"gs://clinvar-gk-pilot/2024-04-07/dev/combined-catvar_output.ndjson.gz\"\n",
    ")\n",
    "scv_blob_uri = \"gs://clinvar-gk-pilot/2024-04-07/dev/combined-scv_output.ndjson.gz\"\n",
    "\n",
    "\n",
    "variation_local_file_path = _local_file_path_for(catvar_blob_uri)\n",
    "if not already_downloaded(catvar_blob_uri):\n",
    "    print(f\"Downloading {catvar_blob_uri} to {variation_local_file_path}\")\n",
    "    dl_variation_local_file_path = download_to_local_file(catvar_blob_uri)\n",
    "\n",
    "scv_local_file_path = _local_file_path_for(scv_blob_uri)\n",
    "if not already_downloaded(scv_blob_uri):\n",
    "    print(f\"Downloading {scv_blob_uri} to {scv_local_file_path}\")\n",
    "    dl_scv_local_file_path = download_to_local_file(scv_blob_uri)\n",
    "\n",
    "# catvar_file = \"combined-catvar_output.ndjson.gz\"\n",
    "# scv_file = \"combined-scv_output.ndjson.gz\"\n",
    "\n",
    "catvar_file = variation_local_file_path\n",
    "scv_file = scv_local_file_path"
   ]
  },
  {
   "cell_type": "code",
   "execution_count": 2,
   "metadata": {},
   "outputs": [],
   "source": [
    "def print_scvs(scvs):\n",
    "    \"\"\"\n",
    "    Reused function to print some core fields from a GKS-modeled ClinVar SCV record.\n",
    "    \"\"\"\n",
    "    for scv in scvs:\n",
    "        classification = scv[\"classification\"][\"label\"]\n",
    "        condition = scv[\"condition\"][\"label\"]\n",
    "        print(f\"SCV: {scv['id']} \")\n",
    "        print(f\"  Classification: {classification}\")\n",
    "        print(f\"  Condition: {condition}\")\n",
    "        print()"
   ]
  },
  {
   "cell_type": "markdown",
   "metadata": {},
   "source": [
    "Our ClinVar datasets are available as both id-keyed JSON files, and NDJSON files. For each format there is a variation file and an SCV file. The demos in this notebook use the NDJSON formatted files. The records of the variation file are `CategoricalVariation` objects, and the records of the SCV file are `VariationPathogenicity` (sub-class of `Statement`)"
   ]
  },
  {
   "cell_type": "code",
   "execution_count": 3,
   "metadata": {},
   "outputs": [],
   "source": [
    "import os\n",
    "import gzip\n",
    "import json\n",
    "\n",
    "################################\n",
    "# Query the SCV file for a VRS ID using vanilla Python\n",
    "#\n",
    "# - for a given ClinVar Variation ID, find the corresponding GA4GH CatVar record in the CatVar\n",
    "#   file and find the SCVs which reference that variant in the SCV file\n",
    "#\n",
    "#   (NOTE: the SCV file also contains the full CatVar definition in the \"variation\" field, but\n",
    "#    this example illustrates how to query across both files, since the SCV file can be\n",
    "#    relationally normalized to extract that redundant entity and refer to the variant\n",
    "#    by the CatVar ID as a foreign key)\n",
    "#\n",
    "# - print the SCV interpretations for that variant\n",
    "#\n",
    "################################\n",
    "################################\n",
    "# Inputs\n",
    "\n",
    "################################\n",
    "# A CanonicalAllele\n",
    "## For searching based on the GKS Categorical Variation (CatVrs) ID\n",
    "clinvar_id_canonicalallele = \"2769522\"\n",
    "catvar_id_canonicalallele = f\"clinvar:{clinvar_id_canonicalallele}\"\n",
    "## For searching based on the GA4GH VRS Variation ID\n",
    "vrs_id_canonicalallele = \"ga4gh:VA.hf_va4AnlG99NuOjtaXJzh_XvszWWOO9\"\n",
    "\n",
    "\n",
    "################################\n",
    "# A CategoricalCnv\n",
    "## For searching based on the GKS Categorical Variation (CatVrs) ID\n",
    "clinvar_id_categoricalcnv = \"599353\"\n",
    "catvar_id_categoricalcnv = f\"clinvar:{clinvar_id_categoricalcnv}\"\n",
    "## For searching based on the GA4GH VRS Variation ID\n",
    "vrs_id_categoricalcnv = \"ga4gh:CX.5iqyOA4L5njh5FpymTPcwQ8oHTilQFmo\"  # GRCh38 member\n",
    "\n",
    "################################\n",
    "assert os.path.exists(catvar_file)\n",
    "assert os.path.exists(scv_file)"
   ]
  },
  {
   "cell_type": "code",
   "execution_count": 4,
   "metadata": {},
   "outputs": [],
   "source": [
    "################################\n",
    "# Query the SCV file for the matching VRS ID\n",
    "################################\n",
    "\n",
    "\n",
    "def query_scvs_by_vrs_id(vrs_id: str, scv_file_name: str):\n",
    "    scvs = []\n",
    "    # catvars = []\n",
    "    with gzip.open(scv_file_name, \"rt\") as f:\n",
    "        for line in f:\n",
    "            record = json.loads(line)\n",
    "            variation = record[\"variation\"]\n",
    "            processing_errors = [\n",
    "                e\n",
    "                for e in variation.get(\"extensions\", [])\n",
    "                if e[\"name\"] == \"vrs processing errors\"\n",
    "            ]\n",
    "            if len(processing_errors) > 0:\n",
    "                # print(f\"Skipping SCV record with VRS processing errors: {line}\")\n",
    "                continue\n",
    "\n",
    "            match variation[\"type\"]:\n",
    "                case \"CategoricalCnv\":\n",
    "                    if \"members\" not in variation:\n",
    "                        # Unsupported?\n",
    "                        # e.g. \"clinvar:1878325\"\n",
    "                        # \"NC_000018.9:g.(48556994_48573289)_48573471dup\"\n",
    "                        # raise ValueError(f\"CategoricalCnv missing members field: {line}\")\n",
    "                        continue\n",
    "                    members = variation[\"members\"]\n",
    "                    member_vrs_ids = [m[\"id\"] for m in members]\n",
    "                    if vrs_id in member_vrs_ids:\n",
    "                        scvs.append(record)\n",
    "\n",
    "                case \"CanonicalAllele\":\n",
    "                    if \"definingContext\" not in variation:\n",
    "                        # Unsupported allele type?\n",
    "                        # e.g. clinvar:215984\n",
    "                        # \"NM_000251.2(MSH2):c.212-?_366+?dup\"\n",
    "                        # raise ValueError(f\"CanonicalAllele missing definingContext field: {line}\")\n",
    "                        continue\n",
    "                    if variation[\"definingContext\"][\"id\"] == vrs_id:\n",
    "                        scvs.append(record)\n",
    "                case \"DescribedVariation\":\n",
    "                    # not an error in processing, but does not have any VRS IDs\n",
    "                    continue\n",
    "                    # raise ValueError(f\"DescribedVariation not yet implemented: {line}\")\n",
    "                case _:\n",
    "                    raise ValueError(\n",
    "                        f\"Unexpected variation type ({variation['type']}): {line}\"\n",
    "                    )\n",
    "    return scvs"
   ]
  },
  {
   "cell_type": "code",
   "execution_count": 5,
   "metadata": {},
   "outputs": [],
   "source": [
    "################################\n",
    "# Query the SCV file for the matching CatVar ID\n",
    "################################\n",
    "\n",
    "\n",
    "def query_scvs_by_catvar_id(catvar_id: str, scv_file_name: str):\n",
    "    scvs = []\n",
    "    # catvars = []\n",
    "    with gzip.open(scv_file_name, \"rt\") as f:\n",
    "        for line in f:\n",
    "            record = json.loads(line)\n",
    "            variation = record[\"variation\"]\n",
    "            record_catvar_id = variation[\"id\"]\n",
    "\n",
    "            if record_catvar_id == catvar_id:\n",
    "                scvs.append(record)\n",
    "\n",
    "    return scvs"
   ]
  },
  {
   "cell_type": "code",
   "execution_count": 6,
   "metadata": {},
   "outputs": [
    {
     "name": "stdout",
     "output_type": "stream",
     "text": [
      "SCV: SCV004334569.1 \n",
      "  Classification: Likely benign\n",
      "  Condition: BAP1-related tumor predisposition syndrome\n",
      "\n"
     ]
    }
   ],
   "source": [
    "scvs_by_vrs_id_canonicalallele = query_scvs_by_vrs_id(vrs_id_canonicalallele, scv_file)\n",
    "\n",
    "print_scvs(scvs_by_vrs_id_canonicalallele)"
   ]
  },
  {
   "cell_type": "code",
   "execution_count": 7,
   "metadata": {},
   "outputs": [
    {
     "name": "stdout",
     "output_type": "stream",
     "text": [
      "SCV: SCV000864190.1 \n",
      "  Classification: Likely pathogenic\n",
      "  Condition: Squalene synthase deficiency\n",
      "\n"
     ]
    }
   ],
   "source": [
    "scvs_by_vrs_id_categoricalcnv = query_scvs_by_vrs_id(vrs_id_categoricalcnv, scv_file)\n",
    "\n",
    "print_scvs(scvs_by_vrs_id_categoricalcnv)"
   ]
  },
  {
   "cell_type": "code",
   "execution_count": 8,
   "metadata": {},
   "outputs": [
    {
     "name": "stdout",
     "output_type": "stream",
     "text": [
      "SCV: SCV004334569.1 \n",
      "  Classification: Likely benign\n",
      "  Condition: BAP1-related tumor predisposition syndrome\n",
      "\n"
     ]
    }
   ],
   "source": [
    "scvs_by_catvar_id_canonicalallele = query_scvs_by_catvar_id(\n",
    "    catvar_id_canonicalallele, scv_file\n",
    ")\n",
    "\n",
    "print_scvs(scvs_by_catvar_id_canonicalallele)"
   ]
  },
  {
   "cell_type": "code",
   "execution_count": 9,
   "metadata": {},
   "outputs": [
    {
     "name": "stdout",
     "output_type": "stream",
     "text": [
      "SCV: SCV000864190.1 \n",
      "  Classification: Likely pathogenic\n",
      "  Condition: Squalene synthase deficiency\n",
      "\n"
     ]
    }
   ],
   "source": [
    "scvs_by_catvar_id_categoricalcnv = query_scvs_by_catvar_id(\n",
    "    catvar_id_categoricalcnv, scv_file\n",
    ")\n",
    "\n",
    "print_scvs(scvs_by_catvar_id_categoricalcnv)"
   ]
  }
 ],
 "metadata": {
  "kernelspec": {
   "display_name": "venv",
   "language": "python",
   "name": "python3"
  },
  "language_info": {
   "codemirror_mode": {
    "name": "ipython",
    "version": 3
   },
   "file_extension": ".py",
   "mimetype": "text/x-python",
   "name": "python",
   "nbconvert_exporter": "python",
   "pygments_lexer": "ipython3",
   "version": "3.11.9"
  }
 },
 "nbformat": 4,
 "nbformat_minor": 2
}
