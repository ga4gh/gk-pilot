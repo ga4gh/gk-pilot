{
 "cells": [
  {
   "cell_type": "code",
   "execution_count": 1,
   "metadata": {},
   "outputs": [
    {
     "name": "stdout",
     "output_type": "stream",
     "text": [
      "Downloading file from https://storage.googleapis.com/clingen-public/clinvar-gk-pilot/2024-04-07/dev/combined-scv_output-split/part-0.ndjson.gz to part-0.ndjson.gz\n"
     ]
    }
   ],
   "source": [
    "import os\n",
    "import urllib\n",
    "import urllib.request\n",
    "\n",
    "scv_blob_http_uri = \"https://storage.googleapis.com/clingen-public/clinvar-gk-pilot/2024-04-07/dev/combined-scv_output.ndjson.gz\"\n",
    "\n",
    "scv_blob_http_uris = [\n",
    "    \"https://storage.googleapis.com/clingen-public/clinvar-gk-pilot/2024-04-07/dev/combined-scv_output-split/part-0.ndjson.gz\",\n",
    "    \"https://storage.googleapis.com/clingen-public/clinvar-gk-pilot/2024-04-07/dev/combined-scv_output-split/part-1.ndjson.gz\",\n",
    "    \"https://storage.googleapis.com/clingen-public/clinvar-gk-pilot/2024-04-07/dev/combined-scv_output-split/part-2.ndjson.gz\",\n",
    "    \"https://storage.googleapis.com/clingen-public/clinvar-gk-pilot/2024-04-07/dev/combined-scv_output-split/part-3.ndjson.gz\",\n",
    "    \"https://storage.googleapis.com/clingen-public/clinvar-gk-pilot/2024-04-07/dev/combined-scv_output-split/part-4.ndjson.gz\",\n",
    "    \"https://storage.googleapis.com/clingen-public/clinvar-gk-pilot/2024-04-07/dev/combined-scv_output-split/part-5.ndjson.gz\",\n",
    "    \"https://storage.googleapis.com/clingen-public/clinvar-gk-pilot/2024-04-07/dev/combined-scv_output-split/part-6.ndjson.gz\",\n",
    "    \"https://storage.googleapis.com/clingen-public/clinvar-gk-pilot/2024-04-07/dev/combined-scv_output-split/part-7.ndjson.gz\",\n",
    "    \"https://storage.googleapis.com/clingen-public/clinvar-gk-pilot/2024-04-07/dev/combined-scv_output-split/part-8.ndjson.gz\",\n",
    "    \"https://storage.googleapis.com/clingen-public/clinvar-gk-pilot/2024-04-07/dev/combined-scv_output-split/part-9.ndjson.gz\",\n",
    "]\n",
    "scv_blob_http_uri = scv_blob_http_uris[0]\n",
    "\n",
    "\n",
    "def download_file(url, local_filename, chunk_size=8*1024*1024):\n",
    "    # Open the URL\n",
    "    with urllib.request.urlopen(url) as response:\n",
    "        with open(local_filename, \"wb\") as out_file:\n",
    "            while True:\n",
    "                chunk = response.read(chunk_size)\n",
    "                if not chunk:\n",
    "                    break\n",
    "                out_file.write(chunk)\n",
    "\n",
    "\n",
    "def content_length(url):\n",
    "    with urllib.request.urlopen(url) as response:\n",
    "        return int(response.getheader(\"Content-Length\"))\n",
    "\n",
    "\n",
    "scv_local_file_path = os.path.basename(scv_blob_http_uri)\n",
    "if os.path.exists(scv_local_file_path) and os.path.getsize(scv_local_file_path) == content_length(scv_blob_http_uri):\n",
    "    print(f\"File {scv_local_file_path} already exists \"\n",
    "          \"and is the correct size. Skipping download.\")\n",
    "    scv_file = scv_local_file_path\n",
    "else:\n",
    "    print(f\"Downloading file from {\n",
    "          scv_blob_http_uri} to {scv_local_file_path}\")\n",
    "    download_file(scv_blob_http_uri, scv_local_file_path)\n",
    "\n",
    "scv_file = scv_local_file_path"
   ]
  },
  {
   "cell_type": "code",
   "execution_count": 2,
   "metadata": {},
   "outputs": [],
   "source": [
    "import contextlib\n",
    "import shutil\n",
    "import gzip\n",
    "\n",
    "\n",
    "def split(input_filename, output_directory, partitions):\n",
    "    filenames = [f\"part-{i}.ndjson.gz\" for i in range(partitions)]\n",
    "    file_paths = [\n",
    "        os.path.join(output_directory, filename) for filename in filenames\n",
    "    ]\n",
    "    print(f\"Splitting {input_filename} into {\n",
    "          partitions} partitions: {file_paths}\")\n",
    "    with gzip.open(input_filename, \"rt\", encoding=\"utf-8\") as f:\n",
    "        filenames = [f\"part-{i}.ndjson.gz\" for i in range(partitions)]\n",
    "        file_paths = [\n",
    "            os.path.join(output_directory, filename) for filename in filenames\n",
    "        ]\n",
    "        with contextlib.ExitStack() as stack:\n",
    "            files = [\n",
    "                stack.enter_context(gzip.open(file_path, \"wt\"))\n",
    "                for file_path in file_paths\n",
    "            ]\n",
    "            for i, line in enumerate(f):\n",
    "                file_idx = i % partitions\n",
    "                files[file_idx].write(line)\n",
    "    return file_paths\n",
    "\n",
    "\n",
    "# partition_count = 10\n",
    "# split_dir = scv_local_file_path.replace(\".ndjson.gz\", \"-split\")\n",
    "# if os.path.isdir(split_dir) and len(os.listdir(split_dir)) == partition_count:\n",
    "#     print(f\"Directory {split_dir} already exists. Skipping split.\")\n",
    "#     partitioned_paths = [os.path.join(split_dir, p)\n",
    "#                          for p in os.listdir(split_dir)]\n",
    "# else:\n",
    "#     if os.path.isdir(split_dir):\n",
    "#         shutil.rmtree(split_dir)\n",
    "#     os.makedirs(split_dir, exist_ok=True)\n",
    "#     partitioned_paths = split(scv_file, split_dir, partition_count)\n",
    "\n",
    "# # Update the scv_file variable to just be the first partition.\n",
    "# # The second pair of variants defined above are from that partition.\n",
    "# scv_file = partitioned_paths[0]"
   ]
  },
  {
   "cell_type": "code",
   "execution_count": 3,
   "metadata": {},
   "outputs": [],
   "source": [
    "def print_scvs(scvs):\n",
    "    \"\"\"\n",
    "    Reused function to print some core fields from a GKS-modeled ClinVar SCV record.\n",
    "    \"\"\"\n",
    "    for scv in scvs:\n",
    "        classification = scv[\"classification\"][\"label\"]\n",
    "        condition = scv[\"condition\"][\"label\"]\n",
    "        print(f\"SCV: {scv['id']} \")\n",
    "        print(f\"  Classification: {classification}\")\n",
    "        print(f\"  Condition: {condition}\")\n",
    "        print()"
   ]
  },
  {
   "cell_type": "markdown",
   "metadata": {},
   "source": [
    "Our ClinVar datasets are available as both id-keyed JSON files, and NDJSON files. For each format there is a variation file and an SCV file. The demos in this notebook use the NDJSON formatted files. The records of the variation file are `CategoricalVariation` objects, and the records of the SCV file are `VariationPathogenicity` (sub-class of `Statement`)"
   ]
  },
  {
   "cell_type": "code",
   "execution_count": 4,
   "metadata": {},
   "outputs": [
    {
     "name": "stderr",
     "output_type": "stream",
     "text": [
      "/var/folders/34/2bz41_vj29v65k2g7r4jfh100000gp/T/ipykernel_55674/2550988733.py:1: DeprecationWarning: 'nis' is deprecated and slated for removal in Python 3.13\n",
      "  from nis import cat\n"
     ]
    }
   ],
   "source": [
    "from nis import cat\n",
    "import os\n",
    "import gzip\n",
    "import json\n",
    "\n",
    "################################\n",
    "# Query the SCV file for a VRS ID using vanilla Python\n",
    "#\n",
    "# - for a given ClinVar Variation ID, find the corresponding GA4GH CatVar record in the CatVar\n",
    "#   file and find the SCVs which reference that variant in the SCV file\n",
    "#\n",
    "#   (NOTE: the SCV file also contains the full CatVar definition in the \"variation\" field, but\n",
    "#    this example illustrates how to query across both files, since the SCV file can be\n",
    "#    relationally normalized to extract that redundant entity and refer to the variant\n",
    "#    by the CatVar ID as a foreign key)\n",
    "#\n",
    "# - print the SCV interpretations for that variant\n",
    "#\n",
    "################################\n",
    "################################\n",
    "# Inputs\n",
    "\n",
    "################################\n",
    "# A CanonicalAllele\n",
    "# For searching based on the GKS Categorical Variation (CatVrs) ID\n",
    "catvar_id_canonicalallele = \"clinvar:2769522\"\n",
    "# For searching based on the GA4GH VRS Variation ID\n",
    "vrs_id_canonicalallele = \"ga4gh:VA.hf_va4AnlG99NuOjtaXJzh_XvszWWOO9\"\n",
    "\n",
    "# This one is in the first file if partitioned into 10 files roundrobin\n",
    "# And it has 2 SCVs in that partition that refer to it.\n",
    "catvar_id_canonicalallele = \"clinvar:841556\"\n",
    "vrs_id_canonicalallele = \"ga4gh:VA.IIvKzExYL-5JMr8lpBZ2G91Bl9T8eBeA\"\n",
    "\n",
    "################################\n",
    "# A CategoricalCnv\n",
    "# For searching based on the GKS Categorical Variation (CatVrs) ID\n",
    "catvar_id_categoricalcnv = \"clinvar:599353\"\n",
    "# For searching based on the GA4GH VRS Variation ID\n",
    "vrs_id_categoricalcnv = \"ga4gh:CX.5iqyOA4L5njh5FpymTPcwQ8oHTilQFmo\"  # GRCh38 member\n",
    "\n",
    "catvar_id_categoricalcnv = \"clinvar:599187\"\n",
    "vrs_id_categoricalcnv = \"ga4gh:CX.keI6gf2rN-zSQzVTsxhXmW9k2wGA9BbF\"  # GRCh37 member\n",
    "################################\n",
    "assert os.path.exists(scv_file)"
   ]
  },
  {
   "cell_type": "code",
   "execution_count": 5,
   "metadata": {},
   "outputs": [],
   "source": [
    "################################\n",
    "# Query the SCV file for the matching VRS ID\n",
    "################################\n",
    "\n",
    "\n",
    "def query_scvs_by_vrs_id(vrs_id: str, scv_file_name: str):\n",
    "    scvs = []\n",
    "    # catvars = []\n",
    "    with gzip.open(scv_file_name, \"rt\") as f:\n",
    "        for line in f:\n",
    "            record = json.loads(line)\n",
    "            variation = record[\"variation\"]\n",
    "            processing_errors = [\n",
    "                e\n",
    "                for e in variation.get(\"extensions\", [])\n",
    "                if e[\"name\"] == \"vrs processing errors\"\n",
    "            ]\n",
    "            if len(processing_errors) > 0:\n",
    "                # print(f\"Skipping SCV record with VRS processing errors: {line}\")\n",
    "                continue\n",
    "\n",
    "            match variation[\"type\"]:\n",
    "                case \"CategoricalCnv\":\n",
    "                    if \"members\" not in variation:\n",
    "                        # Unsupported?\n",
    "                        # e.g. \"clinvar:1878325\"\n",
    "                        # \"NC_000018.9:g.(48556994_48573289)_48573471dup\"\n",
    "                        # raise ValueError(f\"CategoricalCnv missing members field: {line}\")\n",
    "                        continue\n",
    "                    members = variation[\"members\"]\n",
    "                    member_vrs_ids = [m[\"id\"] for m in members]\n",
    "                    if vrs_id in member_vrs_ids:\n",
    "                        scvs.append(record)\n",
    "\n",
    "                case \"CanonicalAllele\":\n",
    "                    if \"definingContext\" not in variation:\n",
    "                        # Unsupported allele type?\n",
    "                        # e.g. clinvar:215984\n",
    "                        # \"NM_000251.2(MSH2):c.212-?_366+?dup\"\n",
    "                        # raise ValueError(f\"CanonicalAllele missing definingContext field: {line}\")\n",
    "                        continue\n",
    "                    if variation[\"definingContext\"][\"id\"] == vrs_id:\n",
    "                        scvs.append(record)\n",
    "                case \"DescribedVariation\":\n",
    "                    # not an error in processing, but does not have any VRS IDs\n",
    "                    continue\n",
    "                    # raise ValueError(f\"DescribedVariation not yet implemented: {line}\")\n",
    "                case _:\n",
    "                    raise ValueError(\n",
    "                        f\"Unexpected variation type ({variation['type']}): {\n",
    "                            line}\"\n",
    "                    )\n",
    "    return scvs"
   ]
  },
  {
   "cell_type": "code",
   "execution_count": 6,
   "metadata": {},
   "outputs": [],
   "source": [
    "################################\n",
    "# Query the SCV file for the matching CatVar ID\n",
    "################################\n",
    "\n",
    "\n",
    "def query_scvs_by_catvar_id(catvar_id: str, scv_file_name: str):\n",
    "    scvs = []\n",
    "    # catvars = []\n",
    "    with gzip.open(scv_file_name, \"rt\") as f:\n",
    "        for line in f:\n",
    "            record = json.loads(line)\n",
    "            variation = record[\"variation\"]\n",
    "            record_catvar_id = variation[\"id\"]\n",
    "\n",
    "            if record_catvar_id == catvar_id:\n",
    "                scvs.append(record)\n",
    "\n",
    "    return scvs"
   ]
  },
  {
   "cell_type": "code",
   "execution_count": 7,
   "metadata": {},
   "outputs": [
    {
     "name": "stdout",
     "output_type": "stream",
     "text": [
      "SCV: SCV002082310.1 \n",
      "  Classification: Pathogenic\n",
      "  Condition: Autosomal recessive limb-girdle muscular dystrophy type 2B\n",
      "\n",
      "SCV: SCV001207574.5 \n",
      "  Classification: Pathogenic\n",
      "  Condition: Qualitative or quantitative defects of dysferlin\n",
      "\n"
     ]
    }
   ],
   "source": [
    "scvs_by_vrs_id_canonicalallele = query_scvs_by_vrs_id(\n",
    "    vrs_id_canonicalallele, scv_file)\n",
    "\n",
    "print_scvs(scvs_by_vrs_id_canonicalallele)"
   ]
  },
  {
   "cell_type": "code",
   "execution_count": 8,
   "metadata": {},
   "outputs": [
    {
     "name": "stdout",
     "output_type": "stream",
     "text": [
      "SCV: SCV000863548.1 \n",
      "  Classification: Pathogenic\n",
      "  Condition: 1q24q25 microdeletion syndrome\n",
      "\n"
     ]
    }
   ],
   "source": [
    "scvs_by_vrs_id_categoricalcnv = query_scvs_by_vrs_id(\n",
    "    vrs_id_categoricalcnv, scv_file)\n",
    "\n",
    "print_scvs(scvs_by_vrs_id_categoricalcnv)"
   ]
  },
  {
   "cell_type": "code",
   "execution_count": 9,
   "metadata": {},
   "outputs": [
    {
     "name": "stdout",
     "output_type": "stream",
     "text": [
      "SCV: SCV002082310.1 \n",
      "  Classification: Pathogenic\n",
      "  Condition: Autosomal recessive limb-girdle muscular dystrophy type 2B\n",
      "\n",
      "SCV: SCV001207574.5 \n",
      "  Classification: Pathogenic\n",
      "  Condition: Qualitative or quantitative defects of dysferlin\n",
      "\n"
     ]
    }
   ],
   "source": [
    "scvs_by_catvar_id_canonicalallele = query_scvs_by_catvar_id(\n",
    "    catvar_id_canonicalallele, scv_file\n",
    ")\n",
    "\n",
    "print_scvs(scvs_by_catvar_id_canonicalallele)"
   ]
  },
  {
   "cell_type": "code",
   "execution_count": 10,
   "metadata": {},
   "outputs": [
    {
     "name": "stdout",
     "output_type": "stream",
     "text": [
      "SCV: SCV000863548.1 \n",
      "  Classification: Pathogenic\n",
      "  Condition: 1q24q25 microdeletion syndrome\n",
      "\n"
     ]
    }
   ],
   "source": [
    "scvs_by_catvar_id_categoricalcnv = query_scvs_by_catvar_id(\n",
    "    catvar_id_categoricalcnv, scv_file\n",
    ")\n",
    "\n",
    "print_scvs(scvs_by_catvar_id_categoricalcnv)"
   ]
  }
 ],
 "metadata": {
  "kernelspec": {
   "display_name": "venv",
   "language": "python",
   "name": "python3"
  },
  "language_info": {
   "codemirror_mode": {
    "name": "ipython",
    "version": 3
   },
   "file_extension": ".py",
   "mimetype": "text/x-python",
   "name": "python",
   "nbconvert_exporter": "python",
   "pygments_lexer": "ipython3",
   "version": "3.12.4"
  }
 },
 "nbformat": 4,
 "nbformat_minor": 2
}
